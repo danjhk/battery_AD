{
 "cells": [
  {
   "cell_type": "code",
   "execution_count": 1,
   "metadata": {},
   "outputs": [],
   "source": [
    "import pandas as pd"
   ]
  },
  {
   "cell_type": "code",
   "execution_count": 2,
   "metadata": {},
   "outputs": [],
   "source": [
    "sfoc1 = pd.read_csv(\"sfoc_combined_1.csv\")\n",
    "sfoc2 = pd.read_csv(\"sfoc_combined_2.csv\")"
   ]
  },
  {
   "cell_type": "code",
   "execution_count": null,
   "metadata": {},
   "outputs": [],
   "source": [
    "import plotly.express as px\n",
    "\n",
    "fig = px.line(sfoc1[:50000], y=\"SFOC\")\n",
    "fig.show()"
   ]
  },
  {
   "cell_type": "code",
   "execution_count": 28,
   "metadata": {},
   "outputs": [
    {
     "data": {
      "text/html": [
       "<div>\n",
       "<style scoped>\n",
       "    .dataframe tbody tr th:only-of-type {\n",
       "        vertical-align: middle;\n",
       "    }\n",
       "\n",
       "    .dataframe tbody tr th {\n",
       "        vertical-align: top;\n",
       "    }\n",
       "\n",
       "    .dataframe thead th {\n",
       "        text-align: right;\n",
       "    }\n",
       "</style>\n",
       "<table border=\"1\" class=\"dataframe\">\n",
       "  <thead>\n",
       "    <tr style=\"text-align: right;\">\n",
       "      <th></th>\n",
       "      <th>Engine Load</th>\n",
       "      <th>SFOC</th>\n",
       "    </tr>\n",
       "  </thead>\n",
       "  <tbody>\n",
       "    <tr>\n",
       "      <th>112250</th>\n",
       "      <td>0.700</td>\n",
       "      <td>183.0</td>\n",
       "    </tr>\n",
       "    <tr>\n",
       "      <th>415111</th>\n",
       "      <td>0.700</td>\n",
       "      <td>183.0</td>\n",
       "    </tr>\n",
       "    <tr>\n",
       "      <th>417074</th>\n",
       "      <td>0.700</td>\n",
       "      <td>183.0</td>\n",
       "    </tr>\n",
       "    <tr>\n",
       "      <th>417114</th>\n",
       "      <td>0.700</td>\n",
       "      <td>183.0</td>\n",
       "    </tr>\n",
       "    <tr>\n",
       "      <th>165776</th>\n",
       "      <td>0.701</td>\n",
       "      <td>183.0</td>\n",
       "    </tr>\n",
       "    <tr>\n",
       "      <th>...</th>\n",
       "      <td>...</td>\n",
       "      <td>...</td>\n",
       "    </tr>\n",
       "    <tr>\n",
       "      <th>165761</th>\n",
       "      <td>0.787</td>\n",
       "      <td>183.0</td>\n",
       "    </tr>\n",
       "    <tr>\n",
       "      <th>8079</th>\n",
       "      <td>0.792</td>\n",
       "      <td>183.0</td>\n",
       "    </tr>\n",
       "    <tr>\n",
       "      <th>8071</th>\n",
       "      <td>0.795</td>\n",
       "      <td>183.0</td>\n",
       "    </tr>\n",
       "    <tr>\n",
       "      <th>8070</th>\n",
       "      <td>0.796</td>\n",
       "      <td>183.0</td>\n",
       "    </tr>\n",
       "    <tr>\n",
       "      <th>8073</th>\n",
       "      <td>0.798</td>\n",
       "      <td>183.0</td>\n",
       "    </tr>\n",
       "  </tbody>\n",
       "</table>\n",
       "<p>191 rows × 2 columns</p>\n",
       "</div>"
      ],
      "text/plain": [
       "        Engine Load   SFOC\n",
       "112250        0.700  183.0\n",
       "415111        0.700  183.0\n",
       "417074        0.700  183.0\n",
       "417114        0.700  183.0\n",
       "165776        0.701  183.0\n",
       "...             ...    ...\n",
       "165761        0.787  183.0\n",
       "8079          0.792  183.0\n",
       "8071          0.795  183.0\n",
       "8070          0.796  183.0\n",
       "8073          0.798  183.0\n",
       "\n",
       "[191 rows x 2 columns]"
      ]
     },
     "execution_count": 28,
     "metadata": {},
     "output_type": "execute_result"
    }
   ],
   "source": [
    "sfoc1.loc[sfoc1[\"SFOC\"]>100].nsmallest(n=191, columns=[\"SFOC\", \"Engine Load\"])"
   ]
  },
  {
   "cell_type": "code",
   "execution_count": 57,
   "metadata": {},
   "outputs": [
    {
     "data": {
      "text/html": [
       "<div>\n",
       "<style scoped>\n",
       "    .dataframe tbody tr th:only-of-type {\n",
       "        vertical-align: middle;\n",
       "    }\n",
       "\n",
       "    .dataframe tbody tr th {\n",
       "        vertical-align: top;\n",
       "    }\n",
       "\n",
       "    .dataframe thead th {\n",
       "        text-align: right;\n",
       "    }\n",
       "</style>\n",
       "<table border=\"1\" class=\"dataframe\">\n",
       "  <thead>\n",
       "    <tr style=\"text-align: right;\">\n",
       "      <th></th>\n",
       "      <th>Engine Load</th>\n",
       "      <th>SFOC</th>\n",
       "    </tr>\n",
       "  </thead>\n",
       "  <tbody>\n",
       "    <tr>\n",
       "      <th>212250</th>\n",
       "      <td>0.000</td>\n",
       "      <td>0.000</td>\n",
       "    </tr>\n",
       "    <tr>\n",
       "      <th>151169</th>\n",
       "      <td>0.000</td>\n",
       "      <td>0.000</td>\n",
       "    </tr>\n",
       "    <tr>\n",
       "      <th>418247</th>\n",
       "      <td>0.000</td>\n",
       "      <td>0.000</td>\n",
       "    </tr>\n",
       "    <tr>\n",
       "      <th>22437</th>\n",
       "      <td>0.000</td>\n",
       "      <td>0.000</td>\n",
       "    </tr>\n",
       "    <tr>\n",
       "      <th>390308</th>\n",
       "      <td>0.000</td>\n",
       "      <td>0.000</td>\n",
       "    </tr>\n",
       "    <tr>\n",
       "      <th>212224</th>\n",
       "      <td>0.000</td>\n",
       "      <td>0.000</td>\n",
       "    </tr>\n",
       "    <tr>\n",
       "      <th>324895</th>\n",
       "      <td>0.000</td>\n",
       "      <td>0.000</td>\n",
       "    </tr>\n",
       "    <tr>\n",
       "      <th>225718</th>\n",
       "      <td>0.123</td>\n",
       "      <td>204.960</td>\n",
       "    </tr>\n",
       "    <tr>\n",
       "      <th>351298</th>\n",
       "      <td>0.136</td>\n",
       "      <td>204.960</td>\n",
       "    </tr>\n",
       "    <tr>\n",
       "      <th>38676</th>\n",
       "      <td>0.000</td>\n",
       "      <td>0.000</td>\n",
       "    </tr>\n",
       "    <tr>\n",
       "      <th>258876</th>\n",
       "      <td>0.000</td>\n",
       "      <td>0.000</td>\n",
       "    </tr>\n",
       "    <tr>\n",
       "      <th>206558</th>\n",
       "      <td>0.156</td>\n",
       "      <td>201.300</td>\n",
       "    </tr>\n",
       "    <tr>\n",
       "      <th>241711</th>\n",
       "      <td>0.000</td>\n",
       "      <td>0.000</td>\n",
       "    </tr>\n",
       "    <tr>\n",
       "      <th>23340</th>\n",
       "      <td>0.000</td>\n",
       "      <td>0.000</td>\n",
       "    </tr>\n",
       "    <tr>\n",
       "      <th>194698</th>\n",
       "      <td>0.125</td>\n",
       "      <td>204.960</td>\n",
       "    </tr>\n",
       "    <tr>\n",
       "      <th>282618</th>\n",
       "      <td>0.133</td>\n",
       "      <td>204.960</td>\n",
       "    </tr>\n",
       "    <tr>\n",
       "      <th>345529</th>\n",
       "      <td>0.629</td>\n",
       "      <td>183.915</td>\n",
       "    </tr>\n",
       "    <tr>\n",
       "      <th>86160</th>\n",
       "      <td>0.000</td>\n",
       "      <td>0.000</td>\n",
       "    </tr>\n",
       "    <tr>\n",
       "      <th>266628</th>\n",
       "      <td>0.000</td>\n",
       "      <td>0.000</td>\n",
       "    </tr>\n",
       "    <tr>\n",
       "      <th>426902</th>\n",
       "      <td>0.000</td>\n",
       "      <td>0.000</td>\n",
       "    </tr>\n",
       "  </tbody>\n",
       "</table>\n",
       "</div>"
      ],
      "text/plain": [
       "        Engine Load     SFOC\n",
       "212250        0.000    0.000\n",
       "151169        0.000    0.000\n",
       "418247        0.000    0.000\n",
       "22437         0.000    0.000\n",
       "390308        0.000    0.000\n",
       "212224        0.000    0.000\n",
       "324895        0.000    0.000\n",
       "225718        0.123  204.960\n",
       "351298        0.136  204.960\n",
       "38676         0.000    0.000\n",
       "258876        0.000    0.000\n",
       "206558        0.156  201.300\n",
       "241711        0.000    0.000\n",
       "23340         0.000    0.000\n",
       "194698        0.125  204.960\n",
       "282618        0.133  204.960\n",
       "345529        0.629  183.915\n",
       "86160         0.000    0.000\n",
       "266628        0.000    0.000\n",
       "426902        0.000    0.000"
      ]
     },
     "execution_count": 57,
     "metadata": {},
     "output_type": "execute_result"
    }
   ],
   "source": [
    "sfoc2.sample(20)"
   ]
  },
  {
   "cell_type": "code",
   "execution_count": 58,
   "metadata": {},
   "outputs": [
    {
     "data": {
      "text/html": [
       "<div>\n",
       "<style scoped>\n",
       "    .dataframe tbody tr th:only-of-type {\n",
       "        vertical-align: middle;\n",
       "    }\n",
       "\n",
       "    .dataframe tbody tr th {\n",
       "        vertical-align: top;\n",
       "    }\n",
       "\n",
       "    .dataframe thead th {\n",
       "        text-align: right;\n",
       "    }\n",
       "</style>\n",
       "<table border=\"1\" class=\"dataframe\">\n",
       "  <thead>\n",
       "    <tr style=\"text-align: right;\">\n",
       "      <th></th>\n",
       "      <th>Engine Load</th>\n",
       "      <th>SFOC</th>\n",
       "    </tr>\n",
       "  </thead>\n",
       "  <tbody>\n",
       "    <tr>\n",
       "      <th>0</th>\n",
       "      <td>0.000</td>\n",
       "      <td>0.00</td>\n",
       "    </tr>\n",
       "    <tr>\n",
       "      <th>1</th>\n",
       "      <td>0.000</td>\n",
       "      <td>0.00</td>\n",
       "    </tr>\n",
       "    <tr>\n",
       "      <th>2</th>\n",
       "      <td>0.000</td>\n",
       "      <td>0.00</td>\n",
       "    </tr>\n",
       "    <tr>\n",
       "      <th>3</th>\n",
       "      <td>0.000</td>\n",
       "      <td>0.00</td>\n",
       "    </tr>\n",
       "    <tr>\n",
       "      <th>4</th>\n",
       "      <td>0.000</td>\n",
       "      <td>0.00</td>\n",
       "    </tr>\n",
       "    <tr>\n",
       "      <th>...</th>\n",
       "      <td>...</td>\n",
       "      <td>...</td>\n",
       "    </tr>\n",
       "    <tr>\n",
       "      <th>443247</th>\n",
       "      <td>0.119</td>\n",
       "      <td>204.96</td>\n",
       "    </tr>\n",
       "    <tr>\n",
       "      <th>443248</th>\n",
       "      <td>0.119</td>\n",
       "      <td>204.96</td>\n",
       "    </tr>\n",
       "    <tr>\n",
       "      <th>443249</th>\n",
       "      <td>0.127</td>\n",
       "      <td>204.96</td>\n",
       "    </tr>\n",
       "    <tr>\n",
       "      <th>443250</th>\n",
       "      <td>0.127</td>\n",
       "      <td>204.96</td>\n",
       "    </tr>\n",
       "    <tr>\n",
       "      <th>443251</th>\n",
       "      <td>0.124</td>\n",
       "      <td>204.96</td>\n",
       "    </tr>\n",
       "  </tbody>\n",
       "</table>\n",
       "<p>443252 rows × 2 columns</p>\n",
       "</div>"
      ],
      "text/plain": [
       "        Engine Load    SFOC\n",
       "0             0.000    0.00\n",
       "1             0.000    0.00\n",
       "2             0.000    0.00\n",
       "3             0.000    0.00\n",
       "4             0.000    0.00\n",
       "...             ...     ...\n",
       "443247        0.119  204.96\n",
       "443248        0.119  204.96\n",
       "443249        0.127  204.96\n",
       "443250        0.127  204.96\n",
       "443251        0.124  204.96\n",
       "\n",
       "[443252 rows x 2 columns]"
      ]
     },
     "execution_count": 58,
     "metadata": {},
     "output_type": "execute_result"
    }
   ],
   "source": [
    "sfoc1"
   ]
  },
  {
   "cell_type": "code",
   "execution_count": 60,
   "metadata": {},
   "outputs": [
    {
     "name": "stderr",
     "output_type": "stream",
     "text": [
      "/tmp/ipykernel_46651/3347642935.py:1: DtypeWarning:\n",
      "\n",
      "Columns (152,153,154,155,156,157,158,159,160,161,162,163,164,165,166,167,168,169,170,171,172,173,174,175,176,177,178,179,180,181,182,183,184,185,186,187,188,189,190,191,192,193,194,195,196,197,198,199,200,201,202,203,204,205,206,207,208,209,210,211,212,213,214,215,216,217,218,219,220,221,222,223,224,225,226,227,228,229,230,231,232,233,234,235,236,237,238,239,240,241,242,243,244,245,246,247,248,249,250,251,252,253,254,255,256,257,258,259,260,261,262,263,264,265,266,267,268,269,270,271,272,273,274,275,276,277,278,279,280,281,282,283,284,285,286,287,288,289,290,291,292,293,294,295,296,297,298,299,300,301,302,303,304,305,306,307,308,309,310,311,312,313,314,315,316,317,318,319,320,321,322,323,324,325,326,327,328,329,330,331,332,333,334,335,336,337,338,339,340,341,342,343,344,345,346,347,348,349,350,351,352,353,354,355,356,357,358,359,360,361,362,363,364,365,366,367,368,369,370,371,372,373,374,375,376,377,378,379,380,381,382,383,384,385,386,387,388,389,390,391,392,393,394,395,396,397,398,399,400,401,402,403,404,405,406,407,408,409,410,411,412,413,414,415,416,417,418,419,420,421,422,423,424,425,426,427,428,429,430,431,432,433,434,435,436,437,438,439,440,441,442,443,444,445,446,447,448,449,450,451,452,453,454,455,456,457,458,459,460,461,462,463,464,465,466,467,468,469,470,471,472,473,474,475,476,477,478,479,480,481,482,483,484,485,486,487,488,489,490,491,492,493,494,495,496,497,498,499,500,501,502,503,504,505,506,507,508,509,510,511,512,513,514,515,516,517,518,519,520,521,522,523,524,525,526,527,528,529,530,531,532,533,534,535,536,537,538,539,540,541,542,543,544,545,546,547,548,549,550,551,552,553,554,555,556,557,558,559,560,561,562,563,564,565,566,567,568,569,570,571,572,573,574,575,576,577,578,579,580,581,582,583,584,585,586,587,588,589,590,591,592,593,594,595,596,597,598,599,600,601,602,603,604,605,606,607,608,609,610,611,612,613,614,615,616,617,618,619,620,621,622,623,624,625,626,627,628,629,630,631,632,633,634,635,636,637,638,639,640,641,642,643,644,645,646,647,648,649,650,651,652,653,654,655,656,657,658,659,660,661,662,663,664,665,666,667,668,669,670,671,672,673,674,675,676,677,678,679,680,681,682,683,684,685,686,687,688,689,690,691,692,693,694,695,696,697,698,699) have mixed types. Specify dtype option on import or set low_memory=False.\n",
      "\n"
     ]
    }
   ],
   "source": [
    "uipa1 = pd.read_csv(\"UIPA.HMD8310H.Engine1.csv\")\n",
    "uipa2 = pd.read_csv(\"UIPA.HMD8310H.Engine2.csv\")"
   ]
  },
  {
   "cell_type": "code",
   "execution_count": 63,
   "metadata": {},
   "outputs": [],
   "source": [
    "sfoc1[\"time\"] = uipa1[\"time\"]"
   ]
  },
  {
   "cell_type": "code",
   "execution_count": 67,
   "metadata": {},
   "outputs": [],
   "source": [
    "sfoc2[\"time\"] = uipa2[\"time\"]"
   ]
  },
  {
   "cell_type": "code",
   "execution_count": 69,
   "metadata": {},
   "outputs": [],
   "source": [
    "merged_df = pd.merge(sfoc1, sfoc2, on='time', how='inner')"
   ]
  },
  {
   "cell_type": "code",
   "execution_count": 70,
   "metadata": {},
   "outputs": [
    {
     "data": {
      "text/plain": [
       "<Axes: >"
      ]
     },
     "execution_count": 70,
     "metadata": {},
     "output_type": "execute_result"
    },
    {
     "data": {
      "image/png": "[encoded data removed]",
      "text/plain": [
       "<Figure size 640x480 with 1 Axes>"
      ]
     },
     "metadata": {},
     "output_type": "display_data"
    }
   ],
   "source": [
    "merged_df[\"total_load\"] = merged_df[\"Engine Load_x\"]+merged_df[\"Engine Load_y\"]\n",
    "merged_df[\"total_load\"].plot()"
   ]
  },
  {
   "cell_type": "code",
   "execution_count": 73,
   "metadata": {},
   "outputs": [
    {
     "data": {
      "text/html": [
       "<div>\n",
       "<style scoped>\n",
       "    .dataframe tbody tr th:only-of-type {\n",
       "        vertical-align: middle;\n",
       "    }\n",
       "\n",
       "    .dataframe tbody tr th {\n",
       "        vertical-align: top;\n",
       "    }\n",
       "\n",
       "    .dataframe thead th {\n",
       "        text-align: right;\n",
       "    }\n",
       "</style>\n",
       "<table border=\"1\" class=\"dataframe\">\n",
       "  <thead>\n",
       "    <tr style=\"text-align: right;\">\n",
       "      <th></th>\n",
       "      <th>time</th>\n",
       "      <th>AvgSOC</th>\n",
       "      <th>Current</th>\n",
       "      <th>Voltage</th>\n",
       "      <th>disconn</th>\n",
       "      <th>Power</th>\n",
       "      <th>index</th>\n",
       "    </tr>\n",
       "  </thead>\n",
       "  <tbody>\n",
       "    <tr>\n",
       "      <th>0</th>\n",
       "      <td>2022-12-26T04:05:00Z</td>\n",
       "      <td>85.0</td>\n",
       "      <td>-3.5</td>\n",
       "      <td>920.0</td>\n",
       "      <td>0</td>\n",
       "      <td>-3220.0</td>\n",
       "      <td>4791</td>\n",
       "    </tr>\n",
       "    <tr>\n",
       "      <th>1</th>\n",
       "      <td>2022-12-26T04:06:00Z</td>\n",
       "      <td>85.0</td>\n",
       "      <td>644.5</td>\n",
       "      <td>909.0</td>\n",
       "      <td>0</td>\n",
       "      <td>585850.5</td>\n",
       "      <td>4792</td>\n",
       "    </tr>\n",
       "    <tr>\n",
       "      <th>2</th>\n",
       "      <td>2022-12-26T04:07:00Z</td>\n",
       "      <td>83.0</td>\n",
       "      <td>760.8</td>\n",
       "      <td>900.5</td>\n",
       "      <td>0</td>\n",
       "      <td>685100.4</td>\n",
       "      <td>4793</td>\n",
       "    </tr>\n",
       "    <tr>\n",
       "      <th>3</th>\n",
       "      <td>2022-12-26T04:08:00Z</td>\n",
       "      <td>82.0</td>\n",
       "      <td>746.0</td>\n",
       "      <td>896.5</td>\n",
       "      <td>0</td>\n",
       "      <td>668789.0</td>\n",
       "      <td>4794</td>\n",
       "    </tr>\n",
       "    <tr>\n",
       "      <th>4</th>\n",
       "      <td>2022-12-26T04:09:00Z</td>\n",
       "      <td>81.0</td>\n",
       "      <td>731.4</td>\n",
       "      <td>893.0</td>\n",
       "      <td>0</td>\n",
       "      <td>653140.2</td>\n",
       "      <td>4795</td>\n",
       "    </tr>\n",
       "    <tr>\n",
       "      <th>...</th>\n",
       "      <td>...</td>\n",
       "      <td>...</td>\n",
       "      <td>...</td>\n",
       "      <td>...</td>\n",
       "      <td>...</td>\n",
       "      <td>...</td>\n",
       "      <td>...</td>\n",
       "    </tr>\n",
       "    <tr>\n",
       "      <th>1964</th>\n",
       "      <td>2023-08-23T06:43:00Z</td>\n",
       "      <td>73.0</td>\n",
       "      <td>624.4</td>\n",
       "      <td>879.0</td>\n",
       "      <td>0</td>\n",
       "      <td>548847.6</td>\n",
       "      <td>264393</td>\n",
       "    </tr>\n",
       "    <tr>\n",
       "      <th>1965</th>\n",
       "      <td>2023-08-23T06:44:00Z</td>\n",
       "      <td>72.0</td>\n",
       "      <td>627.5</td>\n",
       "      <td>876.0</td>\n",
       "      <td>0</td>\n",
       "      <td>549690.0</td>\n",
       "      <td>264394</td>\n",
       "    </tr>\n",
       "    <tr>\n",
       "      <th>1966</th>\n",
       "      <td>2023-08-23T06:45:00Z</td>\n",
       "      <td>71.0</td>\n",
       "      <td>633.6</td>\n",
       "      <td>873.0</td>\n",
       "      <td>0</td>\n",
       "      <td>553132.8</td>\n",
       "      <td>264395</td>\n",
       "    </tr>\n",
       "    <tr>\n",
       "      <th>1967</th>\n",
       "      <td>2023-08-23T06:46:00Z</td>\n",
       "      <td>70.0</td>\n",
       "      <td>635.8</td>\n",
       "      <td>870.0</td>\n",
       "      <td>0</td>\n",
       "      <td>553146.0</td>\n",
       "      <td>264396</td>\n",
       "    </tr>\n",
       "    <tr>\n",
       "      <th>1968</th>\n",
       "      <td>2023-08-23T06:47:00Z</td>\n",
       "      <td>69.0</td>\n",
       "      <td>632.9</td>\n",
       "      <td>867.0</td>\n",
       "      <td>0</td>\n",
       "      <td>548724.3</td>\n",
       "      <td>264397</td>\n",
       "    </tr>\n",
       "  </tbody>\n",
       "</table>\n",
       "<p>1969 rows × 7 columns</p>\n",
       "</div>"
      ],
      "text/plain": [
       "                      time  AvgSOC  Current  Voltage  disconn     Power  \\\n",
       "0     2022-12-26T04:05:00Z    85.0     -3.5    920.0        0   -3220.0   \n",
       "1     2022-12-26T04:06:00Z    85.0    644.5    909.0        0  585850.5   \n",
       "2     2022-12-26T04:07:00Z    83.0    760.8    900.5        0  685100.4   \n",
       "3     2022-12-26T04:08:00Z    82.0    746.0    896.5        0  668789.0   \n",
       "4     2022-12-26T04:09:00Z    81.0    731.4    893.0        0  653140.2   \n",
       "...                    ...     ...      ...      ...      ...       ...   \n",
       "1964  2023-08-23T06:43:00Z    73.0    624.4    879.0        0  548847.6   \n",
       "1965  2023-08-23T06:44:00Z    72.0    627.5    876.0        0  549690.0   \n",
       "1966  2023-08-23T06:45:00Z    71.0    633.6    873.0        0  553132.8   \n",
       "1967  2023-08-23T06:46:00Z    70.0    635.8    870.0        0  553146.0   \n",
       "1968  2023-08-23T06:47:00Z    69.0    632.9    867.0        0  548724.3   \n",
       "\n",
       "       index  \n",
       "0       4791  \n",
       "1       4792  \n",
       "2       4793  \n",
       "3       4794  \n",
       "4       4795  \n",
       "...      ...  \n",
       "1964  264393  \n",
       "1965  264394  \n",
       "1966  264395  \n",
       "1967  264396  \n",
       "1968  264397  \n",
       "\n",
       "[1969 rows x 7 columns]"
      ]
     },
     "execution_count": 73,
     "metadata": {},
     "output_type": "execute_result"
    }
   ],
   "source": [
    "battery = pd.read_excel(\"discharge_lee_ja_yun.xls\")\n",
    "battery"
   ]
  },
  {
   "cell_type": "code",
   "execution_count": 92,
   "metadata": {},
   "outputs": [],
   "source": [
    "def rule_based_power_split(total_load, max_batt_load, max_engine_load):\n",
    "    # Loads are given in percentage. Total load can be up to 200%\n",
    "    engine1_load = 0\n",
    "    engine2_load = 0\n",
    "    batt_load = 0\n",
    "    if total_load <= max_batt_load:        \n",
    "        batt_load = total_load\n",
    "    elif (total_load > max_batt_load) and (total_load < max_engine_load):\n",
    "        engine1_load = total_load\n",
    "    elif (total_load >= max_engine_load) and (total_load <= max_engine_load + max_batt_load):\n",
    "        batt_load = max_batt_load\n",
    "        engine1_load = total_load - max_batt_load\n",
    "    elif (total_load >= max_engine_load + max_batt_load):\n",
    "        engine1_load = total_load/2\n",
    "        engine2_load = total_load/2\n",
    "    return engine1_load, engine2_load, batt_load, total_load\n",
    "\n",
    "MAX_BATT_LOAD = 0.5\n",
    "MAX_ENGINE_LOAD = 1\n",
    "\n",
    "# Apply the function to each row in the 'total_load' column and create a new DataFrame\n",
    "loads_df = merged_df['total_load'].apply(lambda x: rule_based_power_split(x, MAX_BATT_LOAD, MAX_ENGINE_LOAD))\n"
   ]
  },
  {
   "cell_type": "code",
   "execution_count": 93,
   "metadata": {},
   "outputs": [],
   "source": [
    "# Convert the series of tuples into a DataFrame\n",
    "loads_df = loads_df.apply(pd.Series)\n",
    "loads_df.columns = ['engine1_load', 'engine2_load', 'batt_load', 'total_load']\n",
    "\n",
    "# Concatenate the new DataFrame with the original merged_df\n",
    "optimized_df = merged_df.copy()\n",
    "optimized_df = pd.concat([optimized_df, loads_df], axis=1)"
   ]
  },
  {
   "cell_type": "code",
   "execution_count": 94,
   "metadata": {},
   "outputs": [
    {
     "name": "stdout",
     "output_type": "stream",
     "text": [
      "0.679846805299346\n"
     ]
    },
    {
     "data": {
      "text/plain": [
       "0.1474813560443195"
      ]
     },
     "execution_count": 94,
     "metadata": {},
     "output_type": "execute_result"
    }
   ],
   "source": [
    "print(optimized_df.loc[optimized_df[\"engine1_load\"]>0, \"engine1_load\"].mean())\n",
    "merged_df.loc[merged_df[\"Engine Load_x\"]>0, \"Engine Load_x\"].mean()"
   ]
  },
  {
   "cell_type": "code",
   "execution_count": 95,
   "metadata": {},
   "outputs": [
    {
     "name": "stdout",
     "output_type": "stream",
     "text": [
      "0.7765425531914895\n"
     ]
    },
    {
     "data": {
      "text/plain": [
       "0.15383794496960324"
      ]
     },
     "execution_count": 95,
     "metadata": {},
     "output_type": "execute_result"
    }
   ],
   "source": [
    "print(optimized_df.loc[optimized_df[\"engine2_load\"]>0, \"engine2_load\"].mean())\n",
    "merged_df.loc[merged_df[\"Engine Load_y\"]>0, \"Engine Load_y\"].mean()"
   ]
  },
  {
   "cell_type": "code",
   "execution_count": 96,
   "metadata": {},
   "outputs": [
    {
     "name": "stdout",
     "output_type": "stream",
     "text": [
      "0.14312664210646564\n"
     ]
    }
   ],
   "source": [
    "print(optimized_df.loc[optimized_df[\"batt_load\"]>0, \"batt_load\"].mean())"
   ]
  },
  {
   "cell_type": "code",
   "execution_count": 169,
   "metadata": {},
   "outputs": [
    {
     "data": {
      "text/plain": [
       "<matplotlib.legend.Legend at 0x7f8824867fd0>"
      ]
     },
     "execution_count": 169,
     "metadata": {},
     "output_type": "execute_result"
    },
    {
     "data": {
      "image/png": "[encoded data removed]",
      "text/plain": [
       "<Figure size 640x480 with 1 Axes>"
      ]
     },
     "metadata": {},
     "output_type": "display_data"
    }
   ],
   "source": [
    "import matplotlib.pyplot as plt\n",
    "import seaborn as sns\n",
    "sns.set_style('darkgrid')\n",
    "\n",
    "optimized_df[\"engine1_load\"].plot()\n",
    "merged_df[\"Engine Load_x\"].plot(linewidth=0.7)\n",
    "plt.legend([\"Optimized\", \"Not optimized\"])"
   ]
  },
  {
   "cell_type": "code",
   "execution_count": 99,
   "metadata": {},
   "outputs": [
    {
     "data": {
      "text/html": [
       "<div>\n",
       "<style scoped>\n",
       "    .dataframe tbody tr th:only-of-type {\n",
       "        vertical-align: middle;\n",
       "    }\n",
       "\n",
       "    .dataframe tbody tr th {\n",
       "        vertical-align: top;\n",
       "    }\n",
       "\n",
       "    .dataframe thead th {\n",
       "        text-align: right;\n",
       "    }\n",
       "</style>\n",
       "<table border=\"1\" class=\"dataframe\">\n",
       "  <thead>\n",
       "    <tr style=\"text-align: right;\">\n",
       "      <th></th>\n",
       "      <th>Relative Fuel Consumption Rate</th>\n",
       "      <th>Engine Load</th>\n",
       "    </tr>\n",
       "  </thead>\n",
       "  <tbody>\n",
       "    <tr>\n",
       "      <th>0</th>\n",
       "      <td>1.1200</td>\n",
       "      <td>0.10</td>\n",
       "    </tr>\n",
       "    <tr>\n",
       "      <th>1</th>\n",
       "      <td>1.1000</td>\n",
       "      <td>0.15</td>\n",
       "    </tr>\n",
       "    <tr>\n",
       "      <th>2</th>\n",
       "      <td>1.0850</td>\n",
       "      <td>0.20</td>\n",
       "    </tr>\n",
       "    <tr>\n",
       "      <th>3</th>\n",
       "      <td>1.0700</td>\n",
       "      <td>0.25</td>\n",
       "    </tr>\n",
       "    <tr>\n",
       "      <th>4</th>\n",
       "      <td>1.0600</td>\n",
       "      <td>0.30</td>\n",
       "    </tr>\n",
       "    <tr>\n",
       "      <th>5</th>\n",
       "      <td>1.0500</td>\n",
       "      <td>0.35</td>\n",
       "    </tr>\n",
       "    <tr>\n",
       "      <th>6</th>\n",
       "      <td>1.0350</td>\n",
       "      <td>0.40</td>\n",
       "    </tr>\n",
       "    <tr>\n",
       "      <th>7</th>\n",
       "      <td>1.0250</td>\n",
       "      <td>0.45</td>\n",
       "    </tr>\n",
       "    <tr>\n",
       "      <th>8</th>\n",
       "      <td>1.0200</td>\n",
       "      <td>0.50</td>\n",
       "    </tr>\n",
       "    <tr>\n",
       "      <th>9</th>\n",
       "      <td>1.0100</td>\n",
       "      <td>0.55</td>\n",
       "    </tr>\n",
       "    <tr>\n",
       "      <th>10</th>\n",
       "      <td>1.0050</td>\n",
       "      <td>0.60</td>\n",
       "    </tr>\n",
       "    <tr>\n",
       "      <th>11</th>\n",
       "      <td>1.0025</td>\n",
       "      <td>0.65</td>\n",
       "    </tr>\n",
       "    <tr>\n",
       "      <th>12</th>\n",
       "      <td>1.0000</td>\n",
       "      <td>0.70</td>\n",
       "    </tr>\n",
       "    <tr>\n",
       "      <th>13</th>\n",
       "      <td>1.0000</td>\n",
       "      <td>0.75</td>\n",
       "    </tr>\n",
       "    <tr>\n",
       "      <th>14</th>\n",
       "      <td>1.0025</td>\n",
       "      <td>0.80</td>\n",
       "    </tr>\n",
       "    <tr>\n",
       "      <th>15</th>\n",
       "      <td>1.0150</td>\n",
       "      <td>0.90</td>\n",
       "    </tr>\n",
       "    <tr>\n",
       "      <th>16</th>\n",
       "      <td>1.0200</td>\n",
       "      <td>0.95</td>\n",
       "    </tr>\n",
       "    <tr>\n",
       "      <th>17</th>\n",
       "      <td>1.0250</td>\n",
       "      <td>1.00</td>\n",
       "    </tr>\n",
       "  </tbody>\n",
       "</table>\n",
       "</div>"
      ],
      "text/plain": [
       "    Relative Fuel Consumption Rate  Engine Load\n",
       "0                           1.1200         0.10\n",
       "1                           1.1000         0.15\n",
       "2                           1.0850         0.20\n",
       "3                           1.0700         0.25\n",
       "4                           1.0600         0.30\n",
       "5                           1.0500         0.35\n",
       "6                           1.0350         0.40\n",
       "7                           1.0250         0.45\n",
       "8                           1.0200         0.50\n",
       "9                           1.0100         0.55\n",
       "10                          1.0050         0.60\n",
       "11                          1.0025         0.65\n",
       "12                          1.0000         0.70\n",
       "13                          1.0000         0.75\n",
       "14                          1.0025         0.80\n",
       "15                          1.0150         0.90\n",
       "16                          1.0200         0.95\n",
       "17                          1.0250         1.00"
      ]
     },
     "execution_count": 99,
     "metadata": {},
     "output_type": "execute_result"
    }
   ],
   "source": [
    "sfoc_MAN = pd.read_csv(\"sfoc_MAN_curve.csv\")\n",
    "sfoc_MAN"
   ]
  },
  {
   "cell_type": "code",
   "execution_count": 118,
   "metadata": {},
   "outputs": [],
   "source": [
    "import pandas as pd\n",
    "import numpy as np\n",
    "\n",
    "# Assuming fuel_consumption_df and engine_load_df are your DataFrames\n",
    "\n",
    "# Function to round to the nearest multiple of 0.05\n",
    "def round_to_nearest(x, base=0.05):\n",
    "    return round(base * round(x/base), 2)\n",
    "\n",
    "# Apply the rounding function to the 'Engine Load' column\n",
    "engine1 = optimized_df.copy()\n",
    "engine1['engine1_load'] = engine1['engine1_load'].apply(lambda x: round_to_nearest(x))\n",
    "engine1.rename(columns={'engine1_load': 'Engine Load'}, inplace=True)\n",
    "\n",
    "engine2 = optimized_df.copy()\n",
    "engine2['engine2_load'] = engine2['engine2_load'].apply(lambda x: round_to_nearest(x))\n",
    "engine2.rename(columns={'engine2_load': 'Engine Load'}, inplace=True)\n",
    "\n",
    "engine1['Engine Load'] = engine1['Engine Load'].astype(float)\n",
    "engine2['Engine Load'] = engine2['Engine Load'].astype(float)\n",
    "sfoc_MAN['Engine Load'] = sfoc_MAN['Engine Load'].astype(float)\n",
    "\n",
    "# Merge the DataFrames on the 'Engine Load' column\n",
    "merged_engine1 = pd.merge(engine1, sfoc_MAN, on='Engine Load', how='left')\n",
    "merged_engine2 = pd.merge(engine2, sfoc_MAN, on='Engine Load', how='left')\n",
    "\n",
    "# merged_df now contains the engine load data (rounded) along with the corresponding relative fuel consumption rates"
   ]
  },
  {
   "cell_type": "code",
   "execution_count": 120,
   "metadata": {},
   "outputs": [
    {
     "name": "stdout",
     "output_type": "stream",
     "text": [
      "Unique values in fuel_consumption_df: [0.   0.6  0.7  0.75 0.65 0.85 0.55 0.9  0.5  0.8  0.95 1.  ]\n",
      "Unique values in engine_load_df after rounding: [0.1  0.15 0.2  0.25 0.3  0.35 0.4  0.45 0.5  0.55 0.6  0.65 0.7  0.75\n",
      " 0.8  0.9  0.95 1.  ]\n"
     ]
    }
   ],
   "source": [
    "print(\"Unique values in fuel_consumption_df:\", engine1['Engine Load'].unique())\n",
    "print(\"Unique values in engine_load_df after rounding:\", sfoc_MAN['Engine Load'].unique())"
   ]
  },
  {
   "cell_type": "code",
   "execution_count": 128,
   "metadata": {},
   "outputs": [],
   "source": [
    "merged_engine1.fillna(0, inplace=True)\n",
    "merged_engine2.fillna(0, inplace=True)"
   ]
  },
  {
   "cell_type": "code",
   "execution_count": 133,
   "metadata": {},
   "outputs": [],
   "source": [
    "merged_engine1[\"fuel_consumption\"] = merged_engine1[\"Relative Fuel Consumption Rate\"] * 183\n",
    "merged_engine2[\"fuel_consumption\"] = merged_engine2[\"Relative Fuel Consumption Rate\"] * 183"
   ]
  },
  {
   "cell_type": "code",
   "execution_count": 155,
   "metadata": {},
   "outputs": [
    {
     "name": "stdout",
     "output_type": "stream",
     "text": [
      "fuel_consumption    184.306094\n",
      "dtype: float64\n"
     ]
    },
    {
     "data": {
      "text/plain": [
       "SFOC_x    203.646524\n",
       "dtype: float64"
      ]
     },
     "execution_count": 155,
     "metadata": {},
     "output_type": "execute_result"
    }
   ],
   "source": [
    "print((merged_engine1.loc[merged_engine1[\"fuel_consumption\"]>0, [\"fuel_consumption\"]]).mean())\n",
    "merged_df.loc[merged_df[\"SFOC_x\"]>0, [\"SFOC_x\"]].mean()"
   ]
  },
  {
   "cell_type": "code",
   "execution_count": 157,
   "metadata": {},
   "outputs": [
    {
     "name": "stdout",
     "output_type": "stream",
     "text": [
      "fuel_consumption    183.1525\n",
      "dtype: float64\n"
     ]
    },
    {
     "data": {
      "text/plain": [
       "SFOC_y    203.312845\n",
       "dtype: float64"
      ]
     },
     "execution_count": 157,
     "metadata": {},
     "output_type": "execute_result"
    }
   ],
   "source": [
    "print((merged_engine2.loc[merged_engine2[\"fuel_consumption\"]>0, [\"fuel_consumption\"]]).mean())\n",
    "merged_df.loc[merged_df[\"SFOC_y\"]>0, [\"SFOC_y\"]].mean()"
   ]
  },
  {
   "cell_type": "code",
   "execution_count": 173,
   "metadata": {},
   "outputs": [
    {
     "data": {
      "text/plain": [
       "<matplotlib.legend.Legend at 0x7f88248f2e30>"
      ]
     },
     "execution_count": 173,
     "metadata": {},
     "output_type": "execute_result"
    },
    {
     "data": {
      "image/png": "[encoded data removed]",
      "text/plain": [
       "<Figure size 640x480 with 1 Axes>"
      ]
     },
     "metadata": {},
     "output_type": "display_data"
    }
   ],
   "source": [
    "import matplotlib.pyplot as plt\n",
    "import seaborn as sns\n",
    "sns.set_style('darkgrid')\n",
    "\n",
    "merged_engine1.loc[merged_engine1[\"fuel_consumption\"]>0, \"fuel_consumption\"].plot()\n",
    "merged_df.loc[merged_df[\"SFOC_x\"]>0, \"SFOC_x\"].plot(linewidth=0.5)\n",
    "plt.legend([\"Optimized\", \"Not optimized\"])"
   ]
  },
  {
   "cell_type": "code",
   "execution_count": 148,
   "metadata": {},
   "outputs": [
    {
     "data": {
      "text/plain": [
       "0         0.0\n",
       "1         0.0\n",
       "2         0.0\n",
       "3         0.0\n",
       "4         0.0\n",
       "         ... \n",
       "369299    0.0\n",
       "369300    0.0\n",
       "369301    0.0\n",
       "369302    0.0\n",
       "369303    0.0\n",
       "Length: 369304, dtype: float64"
      ]
     },
     "execution_count": 148,
     "metadata": {},
     "output_type": "execute_result"
    }
   ],
   "source": [
    "# Given values\n",
    "sfoc_g_per_kwh = merged_engine1[\"fuel_consumption\"]  # SFOC in g/kWh\n",
    "density_kg_per_m3 = 865  # Average density of marine diesel oil in kg/m^3\n",
    "\n",
    "# Convert SFOC to kg/kWh\n",
    "sfoc_kg_per_kwh = sfoc_g_per_kwh / 1000\n",
    "\n",
    "# Convert SFOC to m^3/kWh\n",
    "sfoc_m3_per_kwh = sfoc_kg_per_kwh / density_kg_per_m3\n",
    "sfoc_m3_per_kwh\n",
    "\n",
    "# Given values\n",
    "load_power_kw = merged_engine1[\"Engine Load\"] * 1935  # Load power in kW\n",
    "duration_minutes = 1  # Duration in minutes\n",
    "\n",
    "# Convert duration to hours\n",
    "duration_hours = duration_minutes / 60\n",
    "\n",
    "# Calculate fuel volume\n",
    "fuel_volume_m3 = sfoc_m3_per_kwh * load_power_kw * duration_hours\n",
    "fuel_volume_m3"
   ]
  },
  {
   "cell_type": "code",
   "execution_count": 149,
   "metadata": {},
   "outputs": [
    {
     "data": {
      "text/plain": [
       "25.412158549963873"
      ]
     },
     "execution_count": 149,
     "metadata": {},
     "output_type": "execute_result"
    }
   ],
   "source": [
    "fuel_volume_m3.sum()"
   ]
  },
  {
   "cell_type": "code",
   "execution_count": null,
   "metadata": {},
   "outputs": [],
   "source": []
  }
 ],
 "metadata": {
  "kernelspec": {
   "display_name": "battery_env",
   "language": "python",
   "name": "python3"
  },
  "language_info": {
   "codemirror_mode": {
    "name": "ipython",
    "version": 3
   },
   "file_extension": ".py",
   "mimetype": "text/x-python",
   "name": "python",
   "nbconvert_exporter": "python",
   "pygments_lexer": "ipython3",
   "version": "3.10.12"
  }
 },
 "nbformat": 4,
 "nbformat_minor": 2
}
